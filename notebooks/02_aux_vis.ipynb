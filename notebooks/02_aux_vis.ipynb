{
 "cells": [
  {
   "cell_type": "code",
   "execution_count": 1,
   "metadata": {},
   "outputs": [],
   "source": [
    "from importlib.util import find_spec\n",
    "if find_spec(\"model\") is None:\n",
    "    import sys\n",
    "    sys.path.append('..')"
   ]
  },
  {
   "cell_type": "code",
   "execution_count": 2,
   "metadata": {},
   "outputs": [],
   "source": [
    "import torch"
   ]
  },
  {
   "cell_type": "code",
   "execution_count": 3,
   "metadata": {},
   "outputs": [],
   "source": [
    "from model._model import VGGBase, AuxiliaryConvolutions\n",
    "from data_loader.data_loaders import PascalVOCDataLoader"
   ]
  },
  {
   "cell_type": "code",
   "execution_count": 4,
   "metadata": {},
   "outputs": [
    {
     "name": "stdout",
     "output_type": "stream",
     "text": [
      "\n",
      "Loaded base model.\n",
      "\n"
     ]
    }
   ],
   "source": [
    "base = VGGBase()"
   ]
  },
  {
   "cell_type": "code",
   "execution_count": 5,
   "metadata": {},
   "outputs": [],
   "source": [
    "dl = PascalVOCDataLoader('/home/kmh/Documents/datasets/pascal', 8)"
   ]
  },
  {
   "cell_type": "code",
   "execution_count": 6,
   "metadata": {},
   "outputs": [],
   "source": [
    "batch = next(iter(dl))"
   ]
  },
  {
   "cell_type": "code",
   "execution_count": 8,
   "metadata": {},
   "outputs": [],
   "source": [
    "conv_4_feat, conv_7_feat = base(batch[0])"
   ]
  },
  {
   "cell_type": "code",
   "execution_count": 9,
   "metadata": {},
   "outputs": [],
   "source": [
    "model = AuxiliaryConvolutions()"
   ]
  },
  {
   "cell_type": "code",
   "execution_count": 17,
   "metadata": {},
   "outputs": [
    {
     "name": "stdout",
     "output_type": "stream",
     "text": [
      "graph(%conv7_feats : Float(8:369664, 1024:361, 19:19, 19:1),\n",
      "      %conv8_1.weight : Float(256:1024, 1024:1, 1:1, 1:1),\n",
      "      %conv8_1.bias : Float(256:1),\n",
      "      %conv8_2.weight : Float(512:2304, 256:9, 3:3, 3:1),\n",
      "      %conv8_2.bias : Float(512:1),\n",
      "      %conv9_1.weight : Float(128:512, 512:1, 1:1, 1:1),\n",
      "      %conv9_1.bias : Float(128:1),\n",
      "      %conv9_2.weight : Float(256:1152, 128:9, 3:3, 3:1),\n",
      "      %conv9_2.bias : Float(256:1),\n",
      "      %conv10_1.weight : Float(128:256, 256:1, 1:1, 1:1),\n",
      "      %conv10_1.bias : Float(128:1),\n",
      "      %conv10_2.weight : Float(256:1152, 128:9, 3:3, 3:1),\n",
      "      %conv10_2.bias : Float(256:1),\n",
      "      %conv11_1.weight : Float(128:256, 256:1, 1:1, 1:1),\n",
      "      %conv11_1.bias : Float(128:1),\n",
      "      %conv11_2.weight : Float(256:1152, 128:9, 3:3, 3:1),\n",
      "      %conv11_2.bias : Float(256:1)):\n",
      "  %17 : Float(8:92416, 256:361, 19:19, 19:1) = onnx::Conv[dilations=[1, 1], group=1, kernel_shape=[1, 1], pads=[0, 0, 0, 0], strides=[1, 1]](%conv7_feats, %conv8_1.weight, %conv8_1.bias) # /home/kmh/anaconda3/envs/fastml/lib/python3.8/site-packages/torch/nn/modules/conv.py:415:0\n",
      "  %18 : Float(8:92416, 256:361, 19:19, 19:1) = onnx::Relu(%17) # /home/kmh/anaconda3/envs/fastml/lib/python3.8/site-packages/torch/nn/functional.py:1119:0\n",
      "  %19 : Float(8:51200, 512:100, 10:10, 10:1) = onnx::Conv[dilations=[1, 1], group=1, kernel_shape=[3, 3], pads=[1, 1, 1, 1], strides=[2, 2]](%18, %conv8_2.weight, %conv8_2.bias) # /home/kmh/anaconda3/envs/fastml/lib/python3.8/site-packages/torch/nn/modules/conv.py:415:0\n",
      "  %conv8_feats : Float(8:51200, 512:100, 10:10, 10:1) = onnx::Relu(%19) # /home/kmh/anaconda3/envs/fastml/lib/python3.8/site-packages/torch/nn/functional.py:1119:0\n",
      "  %21 : Float(8:12800, 128:100, 10:10, 10:1) = onnx::Conv[dilations=[1, 1], group=1, kernel_shape=[1, 1], pads=[0, 0, 0, 0], strides=[1, 1]](%conv8_feats, %conv9_1.weight, %conv9_1.bias) # /home/kmh/anaconda3/envs/fastml/lib/python3.8/site-packages/torch/nn/modules/conv.py:415:0\n",
      "  %22 : Float(8:12800, 128:100, 10:10, 10:1) = onnx::Relu(%21) # /home/kmh/anaconda3/envs/fastml/lib/python3.8/site-packages/torch/nn/functional.py:1119:0\n",
      "  %23 : Float(8:6400, 256:25, 5:5, 5:1) = onnx::Conv[dilations=[1, 1], group=1, kernel_shape=[3, 3], pads=[1, 1, 1, 1], strides=[2, 2]](%22, %conv9_2.weight, %conv9_2.bias) # /home/kmh/anaconda3/envs/fastml/lib/python3.8/site-packages/torch/nn/modules/conv.py:415:0\n",
      "  %conv9_feats : Float(8:6400, 256:25, 5:5, 5:1) = onnx::Relu(%23) # /home/kmh/anaconda3/envs/fastml/lib/python3.8/site-packages/torch/nn/functional.py:1119:0\n",
      "  %25 : Float(8:3200, 128:25, 5:5, 5:1) = onnx::Conv[dilations=[1, 1], group=1, kernel_shape=[1, 1], pads=[0, 0, 0, 0], strides=[1, 1]](%conv9_feats, %conv10_1.weight, %conv10_1.bias) # /home/kmh/anaconda3/envs/fastml/lib/python3.8/site-packages/torch/nn/modules/conv.py:415:0\n",
      "  %26 : Float(8:3200, 128:25, 5:5, 5:1) = onnx::Relu(%25) # /home/kmh/anaconda3/envs/fastml/lib/python3.8/site-packages/torch/nn/functional.py:1119:0\n",
      "  %27 : Float(8:2304, 256:9, 3:3, 3:1) = onnx::Conv[dilations=[1, 1], group=1, kernel_shape=[3, 3], pads=[0, 0, 0, 0], strides=[1, 1]](%26, %conv10_2.weight, %conv10_2.bias) # /home/kmh/anaconda3/envs/fastml/lib/python3.8/site-packages/torch/nn/modules/conv.py:415:0\n",
      "  %conv10_feats : Float(8:2304, 256:9, 3:3, 3:1) = onnx::Relu(%27) # /home/kmh/anaconda3/envs/fastml/lib/python3.8/site-packages/torch/nn/functional.py:1119:0\n",
      "  %29 : Float(8:1152, 128:9, 3:3, 3:1) = onnx::Conv[dilations=[1, 1], group=1, kernel_shape=[1, 1], pads=[0, 0, 0, 0], strides=[1, 1]](%conv10_feats, %conv11_1.weight, %conv11_1.bias) # /home/kmh/anaconda3/envs/fastml/lib/python3.8/site-packages/torch/nn/modules/conv.py:415:0\n",
      "  %30 : Float(8:1152, 128:9, 3:3, 3:1) = onnx::Relu(%29) # /home/kmh/anaconda3/envs/fastml/lib/python3.8/site-packages/torch/nn/functional.py:1119:0\n",
      "  %31 : Float(8:256, 256:1, 1:1, 1:1) = onnx::Conv[dilations=[1, 1], group=1, kernel_shape=[3, 3], pads=[0, 0, 0, 0], strides=[1, 1]](%30, %conv11_2.weight, %conv11_2.bias) # /home/kmh/anaconda3/envs/fastml/lib/python3.8/site-packages/torch/nn/modules/conv.py:415:0\n",
      "  %conv11_feats : Float(8:256, 256:1, 1:1, 1:1) = onnx::Relu(%31) # /home/kmh/anaconda3/envs/fastml/lib/python3.8/site-packages/torch/nn/functional.py:1119:0\n",
      "  return (%conv8_feats, %conv9_feats, %conv10_feats, %conv11_feats)\n",
      "\n"
     ]
    },
    {
     "name": "stderr",
     "output_type": "stream",
     "text": [
      "../model/_model.py:165: TracerWarning: Converting a tensor to a Python boolean might cause the trace to be incorrect. We can't record the data flow of Python values, so this value will be treated as a constant in the future. This means that the trace might not generalize to other inputs!\n",
      "  assert conv8_2_feats.shape == (bs, 512, 10, 10)\n",
      "../model/_model.py:170: TracerWarning: Converting a tensor to a Python boolean might cause the trace to be incorrect. We can't record the data flow of Python values, so this value will be treated as a constant in the future. This means that the trace might not generalize to other inputs!\n",
      "  assert conv9_2_feats.shape == (bs, 256, 5, 5)\n",
      "../model/_model.py:175: TracerWarning: Converting a tensor to a Python boolean might cause the trace to be incorrect. We can't record the data flow of Python values, so this value will be treated as a constant in the future. This means that the trace might not generalize to other inputs!\n",
      "  assert conv10_2_feats.shape == (bs, 256, 3, 3)\n",
      "../model/_model.py:179: TracerWarning: Converting a tensor to a Python boolean might cause the trace to be incorrect. We can't record the data flow of Python values, so this value will be treated as a constant in the future. This means that the trace might not generalize to other inputs!\n",
      "  assert conv11_2_feats.shape == (bs, 256, 1, 1)\n"
     ]
    }
   ],
   "source": [
    "torch.onnx.export(model, conv_7_feat, './models/aux_model.onnx', input_names=[\"conv7_feats\"], output_names=[\"conv8_feats\", \"conv9_feats\", \"conv10_feats\", \"conv11_feats\"], do_constant_folding=False, verbose=True)"
   ]
  },
  {
   "cell_type": "code",
   "execution_count": 18,
   "metadata": {},
   "outputs": [],
   "source": [
    "conv8_feats, conv9_feats, conv10_feats, conv11_feats = model(conv_7_feat)"
   ]
  },
  {
   "cell_type": "code",
   "execution_count": 19,
   "metadata": {},
   "outputs": [],
   "source": [
    "from model._model import PredictionConvolutions"
   ]
  },
  {
   "cell_type": "code",
   "execution_count": 20,
   "metadata": {},
   "outputs": [],
   "source": [
    "pred = PredictionConvolutions(n_classes=21)"
   ]
  },
  {
   "cell_type": "code",
   "execution_count": 22,
   "metadata": {},
   "outputs": [
    {
     "name": "stdout",
     "output_type": "stream",
     "text": [
      "graph(%conv4_feats : Float(8:739328, 512:1444, 38:38, 38:1),\n",
      "      %conv7_feats : Float(8:369664, 1024:361, 19:19, 19:1),\n",
      "      %conv8_feats : Float(8:51200, 512:100, 10:10, 10:1),\n",
      "      %conv9_feats : Float(8:6400, 256:25, 5:5, 5:1),\n",
      "      %conv10_feats : Float(8:2304, 256:9, 3:3, 3:1),\n",
      "      %conv11_feats : Float(8:256, 256:1, 1:1, 1:1),\n",
      "      %loc_conv4_3.weight : Float(16:4608, 512:9, 3:3, 3:1),\n",
      "      %loc_conv4_3.bias : Float(16:1),\n",
      "      %loc_conv7.weight : Float(24:9216, 1024:9, 3:3, 3:1),\n",
      "      %loc_conv7.bias : Float(24:1),\n",
      "      %loc_conv8_2.weight : Float(24:4608, 512:9, 3:3, 3:1),\n",
      "      %loc_conv8_2.bias : Float(24:1),\n",
      "      %loc_conv9_2.weight : Float(24:2304, 256:9, 3:3, 3:1),\n",
      "      %loc_conv9_2.bias : Float(24:1),\n",
      "      %loc_conv10_2.weight : Float(16:2304, 256:9, 3:3, 3:1),\n",
      "      %loc_conv10_2.bias : Float(16:1),\n",
      "      %loc_conv11_2.weight : Float(16:2304, 256:9, 3:3, 3:1),\n",
      "      %loc_conv11_2.bias : Float(16:1),\n",
      "      %cl_conv4_3.weight : Float(84:4608, 512:9, 3:3, 3:1),\n",
      "      %cl_conv4_3.bias : Float(84:1),\n",
      "      %cl_conv7.weight : Float(126:9216, 1024:9, 3:3, 3:1),\n",
      "      %cl_conv7.bias : Float(126:1),\n",
      "      %cl_conv8_2.weight : Float(126:4608, 512:9, 3:3, 3:1),\n",
      "      %cl_conv8_2.bias : Float(126:1),\n",
      "      %cl_conv9_2.weight : Float(126:2304, 256:9, 3:3, 3:1),\n",
      "      %cl_conv9_2.bias : Float(126:1),\n",
      "      %cl_conv10_2.weight : Float(84:2304, 256:9, 3:3, 3:1),\n",
      "      %cl_conv10_2.bias : Float(84:1),\n",
      "      %cl_conv11_2.weight : Float(84:2304, 256:9, 3:3, 3:1),\n",
      "      %cl_conv11_2.bias : Float(84:1)):\n",
      "  %30 : Tensor = onnx::Shape(%conv4_feats)\n",
      "  %31 : Tensor = onnx::Constant[value={0}]()\n",
      "  %32 : Long() = onnx::Gather[axis=0](%30, %31) # ../model/_model.py:306:0\n",
      "  %33 : Float(8:23104, 16:1444, 38:38, 38:1) = onnx::Conv[dilations=[1, 1], group=1, kernel_shape=[3, 3], pads=[1, 1, 1, 1], strides=[1, 1]](%conv4_feats, %loc_conv4_3.weight, %loc_conv4_3.bias) # /home/kmh/anaconda3/envs/fastml/lib/python3.8/site-packages/torch/nn/modules/conv.py:415:0\n",
      "  %34 : Float(8:23104, 38:608, 38:16, 16:1) = onnx::Transpose[perm=[0, 2, 3, 1]](%33) # ../model/_model.py:312:0\n",
      "  %35 : Long() = onnx::Constant[value={-1}]()\n",
      "  %36 : Long() = onnx::Constant[value={4}]()\n",
      "  %37 : Tensor = onnx::Unsqueeze[axes=[0]](%32)\n",
      "  %38 : Tensor = onnx::Unsqueeze[axes=[0]](%35)\n",
      "  %39 : Tensor = onnx::Unsqueeze[axes=[0]](%36)\n",
      "  %40 : Tensor = onnx::Concat[axis=0](%37, %38, %39)\n",
      "  %41 : Float(8:23104, 5776:4, 4:1) = onnx::Reshape(%34, %40) # ../model/_model.py:315:0\n",
      "  %42 : Tensor = onnx::Shape(%conv7_feats)\n",
      "  %43 : Tensor = onnx::Constant[value={0}]()\n",
      "  %44 : Long() = onnx::Gather[axis=0](%42, %43) # ../model/_model.py:306:0\n",
      "  %45 : Float(8:8664, 24:361, 19:19, 19:1) = onnx::Conv[dilations=[1, 1], group=1, kernel_shape=[3, 3], pads=[1, 1, 1, 1], strides=[1, 1]](%conv7_feats, %loc_conv7.weight, %loc_conv7.bias) # /home/kmh/anaconda3/envs/fastml/lib/python3.8/site-packages/torch/nn/modules/conv.py:415:0\n",
      "  %46 : Float(8:8664, 19:456, 19:24, 24:1) = onnx::Transpose[perm=[0, 2, 3, 1]](%45) # ../model/_model.py:312:0\n",
      "  %47 : Long() = onnx::Constant[value={-1}]()\n",
      "  %48 : Long() = onnx::Constant[value={4}]()\n",
      "  %49 : Tensor = onnx::Unsqueeze[axes=[0]](%44)\n",
      "  %50 : Tensor = onnx::Unsqueeze[axes=[0]](%47)\n",
      "  %51 : Tensor = onnx::Unsqueeze[axes=[0]](%48)\n",
      "  %52 : Tensor = onnx::Concat[axis=0](%49, %50, %51)\n",
      "  %53 : Float(8:8664, 2166:4, 4:1) = onnx::Reshape(%46, %52) # ../model/_model.py:315:0\n",
      "  %54 : Tensor = onnx::Shape(%conv8_feats)\n",
      "  %55 : Tensor = onnx::Constant[value={0}]()\n",
      "  %56 : Long() = onnx::Gather[axis=0](%54, %55) # ../model/_model.py:306:0\n",
      "  %57 : Float(8:2400, 24:100, 10:10, 10:1) = onnx::Conv[dilations=[1, 1], group=1, kernel_shape=[3, 3], pads=[1, 1, 1, 1], strides=[1, 1]](%conv8_feats, %loc_conv8_2.weight, %loc_conv8_2.bias) # /home/kmh/anaconda3/envs/fastml/lib/python3.8/site-packages/torch/nn/modules/conv.py:415:0\n",
      "  %58 : Float(8:2400, 10:240, 10:24, 24:1) = onnx::Transpose[perm=[0, 2, 3, 1]](%57) # ../model/_model.py:312:0\n",
      "  %59 : Long() = onnx::Constant[value={-1}]()\n",
      "  %60 : Long() = onnx::Constant[value={4}]()\n",
      "  %61 : Tensor = onnx::Unsqueeze[axes=[0]](%56)\n",
      "  %62 : Tensor = onnx::Unsqueeze[axes=[0]](%59)\n",
      "  %63 : Tensor = onnx::Unsqueeze[axes=[0]](%60)\n",
      "  %64 : Tensor = onnx::Concat[axis=0](%61, %62, %63)\n",
      "  %65 : Float(8:2400, 600:4, 4:1) = onnx::Reshape(%58, %64) # ../model/_model.py:315:0\n",
      "  %66 : Tensor = onnx::Shape(%conv9_feats)\n",
      "  %67 : Tensor = onnx::Constant[value={0}]()\n",
      "  %68 : Long() = onnx::Gather[axis=0](%66, %67) # ../model/_model.py:306:0\n",
      "  %69 : Float(8:600, 24:25, 5:5, 5:1) = onnx::Conv[dilations=[1, 1], group=1, kernel_shape=[3, 3], pads=[1, 1, 1, 1], strides=[1, 1]](%conv9_feats, %loc_conv9_2.weight, %loc_conv9_2.bias) # /home/kmh/anaconda3/envs/fastml/lib/python3.8/site-packages/torch/nn/modules/conv.py:415:0\n",
      "  %70 : Float(8:600, 5:120, 5:24, 24:1) = onnx::Transpose[perm=[0, 2, 3, 1]](%69) # ../model/_model.py:312:0\n",
      "  %71 : Long() = onnx::Constant[value={-1}]()\n",
      "  %72 : Long() = onnx::Constant[value={4}]()\n",
      "  %73 : Tensor = onnx::Unsqueeze[axes=[0]](%68)\n",
      "  %74 : Tensor = onnx::Unsqueeze[axes=[0]](%71)\n",
      "  %75 : Tensor = onnx::Unsqueeze[axes=[0]](%72)\n",
      "  %76 : Tensor = onnx::Concat[axis=0](%73, %74, %75)\n",
      "  %77 : Float(8:600, 150:4, 4:1) = onnx::Reshape(%70, %76) # ../model/_model.py:315:0\n",
      "  %78 : Tensor = onnx::Shape(%conv10_feats)\n",
      "  %79 : Tensor = onnx::Constant[value={0}]()\n",
      "  %80 : Long() = onnx::Gather[axis=0](%78, %79) # ../model/_model.py:306:0\n",
      "  %81 : Float(8:144, 16:9, 3:3, 3:1) = onnx::Conv[dilations=[1, 1], group=1, kernel_shape=[3, 3], pads=[1, 1, 1, 1], strides=[1, 1]](%conv10_feats, %loc_conv10_2.weight, %loc_conv10_2.bias) # /home/kmh/anaconda3/envs/fastml/lib/python3.8/site-packages/torch/nn/modules/conv.py:415:0\n",
      "  %82 : Float(8:144, 3:48, 3:16, 16:1) = onnx::Transpose[perm=[0, 2, 3, 1]](%81) # ../model/_model.py:312:0\n",
      "  %83 : Long() = onnx::Constant[value={-1}]()\n",
      "  %84 : Long() = onnx::Constant[value={4}]()\n",
      "  %85 : Tensor = onnx::Unsqueeze[axes=[0]](%80)\n",
      "  %86 : Tensor = onnx::Unsqueeze[axes=[0]](%83)\n",
      "  %87 : Tensor = onnx::Unsqueeze[axes=[0]](%84)\n",
      "  %88 : Tensor = onnx::Concat[axis=0](%85, %86, %87)\n",
      "  %89 : Float(8:144, 36:4, 4:1) = onnx::Reshape(%82, %88) # ../model/_model.py:315:0\n",
      "  %90 : Tensor = onnx::Shape(%conv11_feats)\n",
      "  %91 : Tensor = onnx::Constant[value={0}]()\n",
      "  %92 : Long() = onnx::Gather[axis=0](%90, %91) # ../model/_model.py:306:0\n",
      "  %93 : Float(8:16, 16:1, 1:1, 1:1) = onnx::Conv[dilations=[1, 1], group=1, kernel_shape=[3, 3], pads=[1, 1, 1, 1], strides=[1, 1]](%conv11_feats, %loc_conv11_2.weight, %loc_conv11_2.bias) # /home/kmh/anaconda3/envs/fastml/lib/python3.8/site-packages/torch/nn/modules/conv.py:415:0\n",
      "  %94 : Float(8:16, 1:1, 1:1, 16:1) = onnx::Transpose[perm=[0, 2, 3, 1]](%93) # ../model/_model.py:312:0\n",
      "  %95 : Long() = onnx::Constant[value={-1}]()\n",
      "  %96 : Long() = onnx::Constant[value={4}]()\n",
      "  %97 : Tensor = onnx::Unsqueeze[axes=[0]](%92)\n",
      "  %98 : Tensor = onnx::Unsqueeze[axes=[0]](%95)\n",
      "  %99 : Tensor = onnx::Unsqueeze[axes=[0]](%96)\n",
      "  %100 : Tensor = onnx::Concat[axis=0](%97, %98, %99)\n",
      "  %101 : Float(8:16, 4:4, 4:1) = onnx::Reshape(%94, %100) # ../model/_model.py:315:0\n",
      "  %102 : Tensor = onnx::Shape(%conv4_feats)\n",
      "  %103 : Tensor = onnx::Constant[value={0}]()\n",
      "  %104 : Long() = onnx::Gather[axis=0](%102, %103) # ../model/_model.py:321:0\n",
      "  %105 : Float(8:121296, 84:1444, 38:38, 38:1) = onnx::Conv[dilations=[1, 1], group=1, kernel_shape=[3, 3], pads=[1, 1, 1, 1], strides=[1, 1]](%conv4_feats, %cl_conv4_3.weight, %cl_conv4_3.bias) # /home/kmh/anaconda3/envs/fastml/lib/python3.8/site-packages/torch/nn/modules/conv.py:415:0\n",
      "  %106 : Float(8:121296, 38:3192, 38:84, 84:1) = onnx::Transpose[perm=[0, 2, 3, 1]](%105) # ../model/_model.py:327:0\n",
      "  %107 : Long() = onnx::Constant[value={-1}]()\n",
      "  %108 : Long() = onnx::Constant[value={21}]()\n",
      "  %109 : Tensor = onnx::Unsqueeze[axes=[0]](%104)\n",
      "  %110 : Tensor = onnx::Unsqueeze[axes=[0]](%107)\n",
      "  %111 : Tensor = onnx::Unsqueeze[axes=[0]](%108)\n",
      "  %112 : Tensor = onnx::Concat[axis=0](%109, %110, %111)\n",
      "  %113 : Float(8:121296, 5776:21, 21:1) = onnx::Reshape(%106, %112) # ../model/_model.py:330:0\n",
      "  %114 : Tensor = onnx::Shape(%conv7_feats)\n",
      "  %115 : Tensor = onnx::Constant[value={0}]()\n",
      "  %116 : Long() = onnx::Gather[axis=0](%114, %115) # ../model/_model.py:321:0\n",
      "  %117 : Float(8:45486, 126:361, 19:19, 19:1) = onnx::Conv[dilations=[1, 1], group=1, kernel_shape=[3, 3], pads=[1, 1, 1, 1], strides=[1, 1]](%conv7_feats, %cl_conv7.weight, %cl_conv7.bias) # /home/kmh/anaconda3/envs/fastml/lib/python3.8/site-packages/torch/nn/modules/conv.py:415:0\n",
      "  %118 : Float(8:45486, 19:2394, 19:126, 126:1) = onnx::Transpose[perm=[0, 2, 3, 1]](%117) # ../model/_model.py:327:0\n",
      "  %119 : Long() = onnx::Constant[value={-1}]()\n",
      "  %120 : Long() = onnx::Constant[value={21}]()\n",
      "  %121 : Tensor = onnx::Unsqueeze[axes=[0]](%116)\n",
      "  %122 : Tensor = onnx::Unsqueeze[axes=[0]](%119)\n",
      "  %123 : Tensor = onnx::Unsqueeze[axes=[0]](%120)\n",
      "  %124 : Tensor = onnx::Concat[axis=0](%121, %122, %123)\n",
      "  %125 : Float(8:45486, 2166:21, 21:1) = onnx::Reshape(%118, %124) # ../model/_model.py:330:0\n",
      "  %126 : Tensor = onnx::Shape(%conv8_feats)\n",
      "  %127 : Tensor = onnx::Constant[value={0}]()\n",
      "  %128 : Long() = onnx::Gather[axis=0](%126, %127) # ../model/_model.py:321:0\n",
      "  %129 : Float(8:12600, 126:100, 10:10, 10:1) = onnx::Conv[dilations=[1, 1], group=1, kernel_shape=[3, 3], pads=[1, 1, 1, 1], strides=[1, 1]](%conv8_feats, %cl_conv8_2.weight, %cl_conv8_2.bias) # /home/kmh/anaconda3/envs/fastml/lib/python3.8/site-packages/torch/nn/modules/conv.py:415:0\n",
      "  %130 : Float(8:12600, 10:1260, 10:126, 126:1) = onnx::Transpose[perm=[0, 2, 3, 1]](%129) # ../model/_model.py:327:0\n",
      "  %131 : Long() = onnx::Constant[value={-1}]()\n",
      "  %132 : Long() = onnx::Constant[value={21}]()\n",
      "  %133 : Tensor = onnx::Unsqueeze[axes=[0]](%128)\n",
      "  %134 : Tensor = onnx::Unsqueeze[axes=[0]](%131)\n",
      "  %135 : Tensor = onnx::Unsqueeze[axes=[0]](%132)\n",
      "  %136 : Tensor = onnx::Concat[axis=0](%133, %134, %135)\n",
      "  %137 : Float(8:12600, 600:21, 21:1) = onnx::Reshape(%130, %136) # ../model/_model.py:330:0\n",
      "  %138 : Tensor = onnx::Shape(%conv9_feats)\n",
      "  %139 : Tensor = onnx::Constant[value={0}]()\n",
      "  %140 : Long() = onnx::Gather[axis=0](%138, %139) # ../model/_model.py:321:0\n",
      "  %141 : Float(8:3150, 126:25, 5:5, 5:1) = onnx::Conv[dilations=[1, 1], group=1, kernel_shape=[3, 3], pads=[1, 1, 1, 1], strides=[1, 1]](%conv9_feats, %cl_conv9_2.weight, %cl_conv9_2.bias) # /home/kmh/anaconda3/envs/fastml/lib/python3.8/site-packages/torch/nn/modules/conv.py:415:0\n",
      "  %142 : Float(8:3150, 5:630, 5:126, 126:1) = onnx::Transpose[perm=[0, 2, 3, 1]](%141) # ../model/_model.py:327:0\n",
      "  %143 : Long() = onnx::Constant[value={-1}]()\n",
      "  %144 : Long() = onnx::Constant[value={21}]()\n",
      "  %145 : Tensor = onnx::Unsqueeze[axes=[0]](%140)\n",
      "  %146 : Tensor = onnx::Unsqueeze[axes=[0]](%143)\n",
      "  %147 : Tensor = onnx::Unsqueeze[axes=[0]](%144)\n",
      "  %148 : Tensor = onnx::Concat[axis=0](%145, %146, %147)\n",
      "  %149 : Float(8:3150, 150:21, 21:1) = onnx::Reshape(%142, %148) # ../model/_model.py:330:0\n",
      "  %150 : Tensor = onnx::Shape(%conv10_feats)\n",
      "  %151 : Tensor = onnx::Constant[value={0}]()\n",
      "  %152 : Long() = onnx::Gather[axis=0](%150, %151) # ../model/_model.py:321:0\n",
      "  %153 : Float(8:756, 84:9, 3:3, 3:1) = onnx::Conv[dilations=[1, 1], group=1, kernel_shape=[3, 3], pads=[1, 1, 1, 1], strides=[1, 1]](%conv10_feats, %cl_conv10_2.weight, %cl_conv10_2.bias) # /home/kmh/anaconda3/envs/fastml/lib/python3.8/site-packages/torch/nn/modules/conv.py:415:0\n",
      "  %154 : Float(8:756, 3:252, 3:84, 84:1) = onnx::Transpose[perm=[0, 2, 3, 1]](%153) # ../model/_model.py:327:0\n",
      "  %155 : Long() = onnx::Constant[value={-1}]()\n",
      "  %156 : Long() = onnx::Constant[value={21}]()\n",
      "  %157 : Tensor = onnx::Unsqueeze[axes=[0]](%152)\n",
      "  %158 : Tensor = onnx::Unsqueeze[axes=[0]](%155)\n",
      "  %159 : Tensor = onnx::Unsqueeze[axes=[0]](%156)\n",
      "  %160 : Tensor = onnx::Concat[axis=0](%157, %158, %159)\n",
      "  %161 : Float(8:756, 36:21, 21:1) = onnx::Reshape(%154, %160) # ../model/_model.py:330:0\n",
      "  %162 : Tensor = onnx::Shape(%conv11_feats)\n",
      "  %163 : Tensor = onnx::Constant[value={0}]()\n",
      "  %164 : Long() = onnx::Gather[axis=0](%162, %163) # ../model/_model.py:321:0\n",
      "  %165 : Float(8:84, 84:1, 1:1, 1:1) = onnx::Conv[dilations=[1, 1], group=1, kernel_shape=[3, 3], pads=[1, 1, 1, 1], strides=[1, 1]](%conv11_feats, %cl_conv11_2.weight, %cl_conv11_2.bias) # /home/kmh/anaconda3/envs/fastml/lib/python3.8/site-packages/torch/nn/modules/conv.py:415:0\n",
      "  %166 : Float(8:84, 1:1, 1:1, 84:1) = onnx::Transpose[perm=[0, 2, 3, 1]](%165) # ../model/_model.py:327:0\n",
      "  %167 : Long() = onnx::Constant[value={-1}]()\n",
      "  %168 : Long() = onnx::Constant[value={21}]()\n",
      "  %169 : Tensor = onnx::Unsqueeze[axes=[0]](%164)\n",
      "  %170 : Tensor = onnx::Unsqueeze[axes=[0]](%167)\n",
      "  %171 : Tensor = onnx::Unsqueeze[axes=[0]](%168)\n",
      "  %172 : Tensor = onnx::Concat[axis=0](%169, %170, %171)\n",
      "  %173 : Float(8:84, 4:21, 21:1) = onnx::Reshape(%166, %172) # ../model/_model.py:330:0\n",
      "  %locs : Float(8:34928, 8732:4, 4:1) = onnx::Concat[axis=1](%41, %53, %65, %77, %89, %101) # ../model/_model.py:292:0\n",
      "  %class_scores : Float(8:183372, 8732:21, 21:1) = onnx::Concat[axis=1](%113, %125, %137, %149, %161, %173) # ../model/_model.py:297:0\n",
      "  return (%locs, %class_scores)\n",
      "\n"
     ]
    }
   ],
   "source": [
    "torch.onnx.export(pred, (conv_4_feat, conv_7_feat, conv8_feats, conv9_feats, conv10_feats, conv11_feats), './models/pred_model.onnx', input_names=[\"conv4_feats\", \"conv7_feats\", \"conv8_feats\", \"conv9_feats\", \"conv10_feats\", \"conv11_feats\"], output_names=[\"locs\", \"class_scores\"], do_constant_folding=False, verbose=True)"
   ]
  },
  {
   "cell_type": "code",
   "execution_count": null,
   "metadata": {},
   "outputs": [],
   "source": []
  }
 ],
 "metadata": {
  "kernelspec": {
   "display_name": "Python 3",
   "language": "python",
   "name": "python3"
  },
  "language_info": {
   "codemirror_mode": {
    "name": "ipython",
    "version": 3
   },
   "file_extension": ".py",
   "mimetype": "text/x-python",
   "name": "python",
   "nbconvert_exporter": "python",
   "pygments_lexer": "ipython3",
   "version": "3.8.6"
  }
 },
 "nbformat": 4,
 "nbformat_minor": 4
}
