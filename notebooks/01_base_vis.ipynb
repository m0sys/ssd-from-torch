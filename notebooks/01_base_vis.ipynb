{
 "cells": [
  {
   "cell_type": "code",
   "execution_count": 1,
   "metadata": {},
   "outputs": [],
   "source": [
    "from importlib.util import find_spec\n",
    "if find_spec(\"model\") is None:\n",
    "    import sys\n",
    "    sys.path.append('..')"
   ]
  },
  {
   "cell_type": "code",
   "execution_count": 2,
   "metadata": {},
   "outputs": [],
   "source": [
    "%load_ext autoreload\n",
    "%autoreload 2\n",
    "\n",
    "%matplotlib inline"
   ]
  },
  {
   "cell_type": "code",
   "execution_count": 4,
   "metadata": {},
   "outputs": [],
   "source": [
    "import torch"
   ]
  },
  {
   "cell_type": "code",
   "execution_count": 12,
   "metadata": {},
   "outputs": [],
   "source": [
    "from model._model import VGGBase\n",
    "from data_loader.data_loaders import PascalVOCDataLoader"
   ]
  },
  {
   "cell_type": "code",
   "execution_count": 6,
   "metadata": {},
   "outputs": [
    {
     "name": "stdout",
     "output_type": "stream",
     "text": [
      "\n",
      "Loaded base model.\n",
      "\n"
     ]
    }
   ],
   "source": [
    "model = VGGBase()"
   ]
  },
  {
   "cell_type": "code",
   "execution_count": 7,
   "metadata": {},
   "outputs": [
    {
     "data": {
      "text/plain": [
       "VGGBase(\n",
       "  (conv1_1): Conv2d(3, 64, kernel_size=(3, 3), stride=(1, 1), padding=(1, 1))\n",
       "  (conv1_2): Conv2d(64, 64, kernel_size=(3, 3), stride=(1, 1), padding=(1, 1))\n",
       "  (pool1): MaxPool2d(kernel_size=2, stride=2, padding=0, dilation=1, ceil_mode=False)\n",
       "  (conv2_1): Conv2d(64, 128, kernel_size=(3, 3), stride=(1, 1), padding=(1, 1))\n",
       "  (conv2_2): Conv2d(128, 128, kernel_size=(3, 3), stride=(1, 1), padding=(1, 1))\n",
       "  (pool2): MaxPool2d(kernel_size=2, stride=2, padding=0, dilation=1, ceil_mode=False)\n",
       "  (conv3_1): Conv2d(128, 256, kernel_size=(3, 3), stride=(1, 1), padding=(1, 1))\n",
       "  (conv3_2): Conv2d(256, 256, kernel_size=(3, 3), stride=(1, 1), padding=(1, 1))\n",
       "  (conv3_3): Conv2d(256, 256, kernel_size=(3, 3), stride=(1, 1), padding=(1, 1))\n",
       "  (pool3): MaxPool2d(kernel_size=2, stride=2, padding=0, dilation=1, ceil_mode=True)\n",
       "  (conv4_1): Conv2d(256, 512, kernel_size=(3, 3), stride=(1, 1), padding=(1, 1))\n",
       "  (conv4_2): Conv2d(512, 512, kernel_size=(3, 3), stride=(1, 1), padding=(1, 1))\n",
       "  (conv4_3): Conv2d(512, 512, kernel_size=(3, 3), stride=(1, 1), padding=(1, 1))\n",
       "  (pool4): MaxPool2d(kernel_size=2, stride=2, padding=0, dilation=1, ceil_mode=False)\n",
       "  (conv5_1): Conv2d(512, 512, kernel_size=(3, 3), stride=(1, 1), padding=(1, 1))\n",
       "  (conv5_2): Conv2d(512, 512, kernel_size=(3, 3), stride=(1, 1), padding=(1, 1))\n",
       "  (conv5_3): Conv2d(512, 512, kernel_size=(3, 3), stride=(1, 1), padding=(1, 1))\n",
       "  (pool5): MaxPool2d(kernel_size=3, stride=1, padding=1, dilation=1, ceil_mode=False)\n",
       "  (conv6): Conv2d(512, 1024, kernel_size=(3, 3), stride=(1, 1), padding=(6, 6), dilation=(6, 6))\n",
       "  (conv7): Conv2d(1024, 1024, kernel_size=(1, 1), stride=(1, 1))\n",
       ")"
      ]
     },
     "execution_count": 7,
     "metadata": {},
     "output_type": "execute_result"
    }
   ],
   "source": [
    "model"
   ]
  },
  {
   "cell_type": "code",
   "execution_count": 9,
   "metadata": {},
   "outputs": [],
   "source": [
    "torch.save(model.state_dict(), './models/vgg.pth')"
   ]
  },
  {
   "cell_type": "code",
   "execution_count": 10,
   "metadata": {},
   "outputs": [],
   "source": [
    "torch.save(model, './models/vgg_model.pth')"
   ]
  },
  {
   "cell_type": "code",
   "execution_count": 11,
   "metadata": {},
   "outputs": [
    {
     "data": {
      "text/plain": [
       "VGGBase(\n",
       "  (conv1_1): Conv2d(3, 64, kernel_size=(3, 3), stride=(1, 1), padding=(1, 1))\n",
       "  (conv1_2): Conv2d(64, 64, kernel_size=(3, 3), stride=(1, 1), padding=(1, 1))\n",
       "  (pool1): MaxPool2d(kernel_size=2, stride=2, padding=0, dilation=1, ceil_mode=False)\n",
       "  (conv2_1): Conv2d(64, 128, kernel_size=(3, 3), stride=(1, 1), padding=(1, 1))\n",
       "  (conv2_2): Conv2d(128, 128, kernel_size=(3, 3), stride=(1, 1), padding=(1, 1))\n",
       "  (pool2): MaxPool2d(kernel_size=2, stride=2, padding=0, dilation=1, ceil_mode=False)\n",
       "  (conv3_1): Conv2d(128, 256, kernel_size=(3, 3), stride=(1, 1), padding=(1, 1))\n",
       "  (conv3_2): Conv2d(256, 256, kernel_size=(3, 3), stride=(1, 1), padding=(1, 1))\n",
       "  (conv3_3): Conv2d(256, 256, kernel_size=(3, 3), stride=(1, 1), padding=(1, 1))\n",
       "  (pool3): MaxPool2d(kernel_size=2, stride=2, padding=0, dilation=1, ceil_mode=True)\n",
       "  (conv4_1): Conv2d(256, 512, kernel_size=(3, 3), stride=(1, 1), padding=(1, 1))\n",
       "  (conv4_2): Conv2d(512, 512, kernel_size=(3, 3), stride=(1, 1), padding=(1, 1))\n",
       "  (conv4_3): Conv2d(512, 512, kernel_size=(3, 3), stride=(1, 1), padding=(1, 1))\n",
       "  (pool4): MaxPool2d(kernel_size=2, stride=2, padding=0, dilation=1, ceil_mode=False)\n",
       "  (conv5_1): Conv2d(512, 512, kernel_size=(3, 3), stride=(1, 1), padding=(1, 1))\n",
       "  (conv5_2): Conv2d(512, 512, kernel_size=(3, 3), stride=(1, 1), padding=(1, 1))\n",
       "  (conv5_3): Conv2d(512, 512, kernel_size=(3, 3), stride=(1, 1), padding=(1, 1))\n",
       "  (pool5): MaxPool2d(kernel_size=3, stride=1, padding=1, dilation=1, ceil_mode=False)\n",
       "  (conv6): Conv2d(512, 1024, kernel_size=(3, 3), stride=(1, 1), padding=(6, 6), dilation=(6, 6))\n",
       "  (conv7): Conv2d(1024, 1024, kernel_size=(1, 1), stride=(1, 1))\n",
       ")"
      ]
     },
     "execution_count": 11,
     "metadata": {},
     "output_type": "execute_result"
    }
   ],
   "source": [
    "model.eval()"
   ]
  },
  {
   "cell_type": "code",
   "execution_count": 14,
   "metadata": {},
   "outputs": [],
   "source": [
    "dl = PascalVOCDataLoader('/home/kmh/Documents/datasets/pascal', 8)"
   ]
  },
  {
   "cell_type": "code",
   "execution_count": 15,
   "metadata": {},
   "outputs": [],
   "source": [
    "batch = next(iter(dl))"
   ]
  },
  {
   "cell_type": "code",
   "execution_count": null,
   "metadata": {},
   "outputs": [],
   "source": [
    "model(batch[0])"
   ]
  },
  {
   "cell_type": "code",
   "execution_count": 18,
   "metadata": {},
   "outputs": [],
   "source": [
    "torch.save(model, './models/vgg_pass.pth')"
   ]
  },
  {
   "cell_type": "code",
   "execution_count": 29,
   "metadata": {},
   "outputs": [
    {
     "name": "stdout",
     "output_type": "stream",
     "text": [
      "graph(%input : Float(8:270000, 3:90000, 300:300, 300:1),\n",
      "      %conv1_1.weight : Float(64:27, 3:9, 3:3, 3:1),\n",
      "      %conv1_1.bias : Float(64:1),\n",
      "      %conv1_2.weight : Float(64:576, 64:9, 3:3, 3:1),\n",
      "      %conv1_2.bias : Float(64:1),\n",
      "      %conv2_1.weight : Float(128:576, 64:9, 3:3, 3:1),\n",
      "      %conv2_1.bias : Float(128:1),\n",
      "      %conv2_2.weight : Float(128:1152, 128:9, 3:3, 3:1),\n",
      "      %conv2_2.bias : Float(128:1),\n",
      "      %conv3_1.weight : Float(256:1152, 128:9, 3:3, 3:1),\n",
      "      %conv3_1.bias : Float(256:1),\n",
      "      %conv3_2.weight : Float(256:2304, 256:9, 3:3, 3:1),\n",
      "      %conv3_2.bias : Float(256:1),\n",
      "      %conv3_3.weight : Float(256:2304, 256:9, 3:3, 3:1),\n",
      "      %conv3_3.bias : Float(256:1),\n",
      "      %conv4_1.weight : Float(512:2304, 256:9, 3:3, 3:1),\n",
      "      %conv4_1.bias : Float(512:1),\n",
      "      %conv4_2.weight : Float(512:4608, 512:9, 3:3, 3:1),\n",
      "      %conv4_2.bias : Float(512:1),\n",
      "      %conv4_3.weight : Float(512:4608, 512:9, 3:3, 3:1),\n",
      "      %conv4_3.bias : Float(512:1),\n",
      "      %conv5_1.weight : Float(512:4608, 512:9, 3:3, 3:1),\n",
      "      %conv5_1.bias : Float(512:1),\n",
      "      %conv5_2.weight : Float(512:4608, 512:9, 3:3, 3:1),\n",
      "      %conv5_2.bias : Float(512:1),\n",
      "      %conv5_3.weight : Float(512:4608, 512:9, 3:3, 3:1),\n",
      "      %conv5_3.bias : Float(512:1),\n",
      "      %conv6.weight : Float(1024:4608, 512:9, 3:3, 3:1),\n",
      "      %conv6.bias : Float(1024:1),\n",
      "      %conv7.weight : Float(1024:1024, 1024:1, 1:1, 1:1),\n",
      "      %conv7.bias : Float(1024:1)):\n",
      "  %31 : Float(8:5760000, 64:90000, 300:300, 300:1) = onnx::Conv[dilations=[1, 1], group=1, kernel_shape=[3, 3], pads=[1, 1, 1, 1], strides=[1, 1]](%input, %conv1_1.weight, %conv1_1.bias) # /home/kmh/anaconda3/envs/fastml/lib/python3.8/site-packages/torch/nn/modules/conv.py:415:0\n",
      "  %32 : Float(8:5760000, 64:90000, 300:300, 300:1) = onnx::Relu(%31) # /home/kmh/anaconda3/envs/fastml/lib/python3.8/site-packages/torch/nn/functional.py:1119:0\n",
      "  %33 : Float(8:5760000, 64:90000, 300:300, 300:1) = onnx::Conv[dilations=[1, 1], group=1, kernel_shape=[3, 3], pads=[1, 1, 1, 1], strides=[1, 1]](%32, %conv1_2.weight, %conv1_2.bias) # /home/kmh/anaconda3/envs/fastml/lib/python3.8/site-packages/torch/nn/modules/conv.py:415:0\n",
      "  %34 : Float(8:5760000, 64:90000, 300:300, 300:1) = onnx::Relu(%33) # /home/kmh/anaconda3/envs/fastml/lib/python3.8/site-packages/torch/nn/functional.py:1119:0\n",
      "  %35 : Float(8:1440000, 64:22500, 150:150, 150:1) = onnx::MaxPool[kernel_shape=[2, 2], pads=[0, 0, 0, 0], strides=[2, 2]](%34) # /home/kmh/anaconda3/envs/fastml/lib/python3.8/site-packages/torch/nn/functional.py:575:0\n",
      "  %36 : Float(8:2880000, 128:22500, 150:150, 150:1) = onnx::Conv[dilations=[1, 1], group=1, kernel_shape=[3, 3], pads=[1, 1, 1, 1], strides=[1, 1]](%35, %conv2_1.weight, %conv2_1.bias) # /home/kmh/anaconda3/envs/fastml/lib/python3.8/site-packages/torch/nn/modules/conv.py:415:0\n",
      "  %37 : Float(8:2880000, 128:22500, 150:150, 150:1) = onnx::Relu(%36) # /home/kmh/anaconda3/envs/fastml/lib/python3.8/site-packages/torch/nn/functional.py:1119:0\n",
      "  %38 : Float(8:2880000, 128:22500, 150:150, 150:1) = onnx::Conv[dilations=[1, 1], group=1, kernel_shape=[3, 3], pads=[1, 1, 1, 1], strides=[1, 1]](%37, %conv2_2.weight, %conv2_2.bias) # /home/kmh/anaconda3/envs/fastml/lib/python3.8/site-packages/torch/nn/modules/conv.py:415:0\n",
      "  %39 : Float(8:2880000, 128:22500, 150:150, 150:1) = onnx::Relu(%38) # /home/kmh/anaconda3/envs/fastml/lib/python3.8/site-packages/torch/nn/functional.py:1119:0\n",
      "  %40 : Float(8:720000, 128:5625, 75:75, 75:1) = onnx::MaxPool[kernel_shape=[2, 2], pads=[0, 0, 0, 0], strides=[2, 2]](%39) # /home/kmh/anaconda3/envs/fastml/lib/python3.8/site-packages/torch/nn/functional.py:575:0\n",
      "  %41 : Float(8:1440000, 256:5625, 75:75, 75:1) = onnx::Conv[dilations=[1, 1], group=1, kernel_shape=[3, 3], pads=[1, 1, 1, 1], strides=[1, 1]](%40, %conv3_1.weight, %conv3_1.bias) # /home/kmh/anaconda3/envs/fastml/lib/python3.8/site-packages/torch/nn/modules/conv.py:415:0\n",
      "  %42 : Float(8:1440000, 256:5625, 75:75, 75:1) = onnx::Relu(%41) # /home/kmh/anaconda3/envs/fastml/lib/python3.8/site-packages/torch/nn/functional.py:1119:0\n",
      "  %43 : Float(8:1440000, 256:5625, 75:75, 75:1) = onnx::Conv[dilations=[1, 1], group=1, kernel_shape=[3, 3], pads=[1, 1, 1, 1], strides=[1, 1]](%42, %conv3_2.weight, %conv3_2.bias) # /home/kmh/anaconda3/envs/fastml/lib/python3.8/site-packages/torch/nn/modules/conv.py:415:0\n",
      "  %44 : Float(8:1440000, 256:5625, 75:75, 75:1) = onnx::Relu(%43) # /home/kmh/anaconda3/envs/fastml/lib/python3.8/site-packages/torch/nn/functional.py:1119:0\n",
      "  %45 : Float(8:1440000, 256:5625, 75:75, 75:1) = onnx::Conv[dilations=[1, 1], group=1, kernel_shape=[3, 3], pads=[1, 1, 1, 1], strides=[1, 1]](%44, %conv3_3.weight, %conv3_3.bias) # /home/kmh/anaconda3/envs/fastml/lib/python3.8/site-packages/torch/nn/modules/conv.py:415:0\n",
      "  %46 : Float(8:1440000, 256:5625, 75:75, 75:1) = onnx::Relu(%45) # /home/kmh/anaconda3/envs/fastml/lib/python3.8/site-packages/torch/nn/functional.py:1119:0\n",
      "  %47 : Float(8:369664, 256:1444, 38:38, 38:1) = onnx::MaxPool[kernel_shape=[2, 2], pads=[0, 0, 1, 1], strides=[2, 2]](%46) # /home/kmh/anaconda3/envs/fastml/lib/python3.8/site-packages/torch/nn/functional.py:575:0\n",
      "  %48 : Float(8:739328, 512:1444, 38:38, 38:1) = onnx::Conv[dilations=[1, 1], group=1, kernel_shape=[3, 3], pads=[1, 1, 1, 1], strides=[1, 1]](%47, %conv4_1.weight, %conv4_1.bias) # /home/kmh/anaconda3/envs/fastml/lib/python3.8/site-packages/torch/nn/modules/conv.py:415:0\n",
      "  %49 : Float(8:739328, 512:1444, 38:38, 38:1) = onnx::Relu(%48) # /home/kmh/anaconda3/envs/fastml/lib/python3.8/site-packages/torch/nn/functional.py:1119:0\n",
      "  %50 : Float(8:739328, 512:1444, 38:38, 38:1) = onnx::Conv[dilations=[1, 1], group=1, kernel_shape=[3, 3], pads=[1, 1, 1, 1], strides=[1, 1]](%49, %conv4_2.weight, %conv4_2.bias) # /home/kmh/anaconda3/envs/fastml/lib/python3.8/site-packages/torch/nn/modules/conv.py:415:0\n",
      "  %51 : Float(8:739328, 512:1444, 38:38, 38:1) = onnx::Relu(%50) # /home/kmh/anaconda3/envs/fastml/lib/python3.8/site-packages/torch/nn/functional.py:1119:0\n",
      "  %52 : Float(8:739328, 512:1444, 38:38, 38:1) = onnx::Conv[dilations=[1, 1], group=1, kernel_shape=[3, 3], pads=[1, 1, 1, 1], strides=[1, 1]](%51, %conv4_3.weight, %conv4_3.bias) # /home/kmh/anaconda3/envs/fastml/lib/python3.8/site-packages/torch/nn/modules/conv.py:415:0\n",
      "  %conv4_feats : Float(8:739328, 512:1444, 38:38, 38:1) = onnx::Relu(%52) # /home/kmh/anaconda3/envs/fastml/lib/python3.8/site-packages/torch/nn/functional.py:1119:0\n",
      "  %54 : Float(8:184832, 512:361, 19:19, 19:1) = onnx::MaxPool[kernel_shape=[2, 2], pads=[0, 0, 0, 0], strides=[2, 2]](%conv4_feats) # /home/kmh/anaconda3/envs/fastml/lib/python3.8/site-packages/torch/nn/functional.py:575:0\n",
      "  %55 : Float(8:184832, 512:361, 19:19, 19:1) = onnx::Conv[dilations=[1, 1], group=1, kernel_shape=[3, 3], pads=[1, 1, 1, 1], strides=[1, 1]](%54, %conv5_1.weight, %conv5_1.bias) # /home/kmh/anaconda3/envs/fastml/lib/python3.8/site-packages/torch/nn/modules/conv.py:415:0\n",
      "  %56 : Float(8:184832, 512:361, 19:19, 19:1) = onnx::Relu(%55) # /home/kmh/anaconda3/envs/fastml/lib/python3.8/site-packages/torch/nn/functional.py:1119:0\n",
      "  %57 : Float(8:184832, 512:361, 19:19, 19:1) = onnx::Conv[dilations=[1, 1], group=1, kernel_shape=[3, 3], pads=[1, 1, 1, 1], strides=[1, 1]](%56, %conv5_2.weight, %conv5_2.bias) # /home/kmh/anaconda3/envs/fastml/lib/python3.8/site-packages/torch/nn/modules/conv.py:415:0\n",
      "  %58 : Float(8:184832, 512:361, 19:19, 19:1) = onnx::Relu(%57) # /home/kmh/anaconda3/envs/fastml/lib/python3.8/site-packages/torch/nn/functional.py:1119:0\n",
      "  %59 : Float(8:184832, 512:361, 19:19, 19:1) = onnx::Conv[dilations=[1, 1], group=1, kernel_shape=[3, 3], pads=[1, 1, 1, 1], strides=[1, 1]](%58, %conv5_3.weight, %conv5_3.bias) # /home/kmh/anaconda3/envs/fastml/lib/python3.8/site-packages/torch/nn/modules/conv.py:415:0\n",
      "  %60 : Float(8:184832, 512:361, 19:19, 19:1) = onnx::Relu(%59) # /home/kmh/anaconda3/envs/fastml/lib/python3.8/site-packages/torch/nn/functional.py:1119:0\n",
      "  %61 : Float(8:184832, 512:361, 19:19, 19:1) = onnx::MaxPool[kernel_shape=[3, 3], pads=[1, 1, 1, 1], strides=[1, 1]](%60) # /home/kmh/anaconda3/envs/fastml/lib/python3.8/site-packages/torch/nn/functional.py:575:0\n",
      "  %62 : Float(8:369664, 1024:361, 19:19, 19:1) = onnx::Conv[dilations=[6, 6], group=1, kernel_shape=[3, 3], pads=[6, 6, 6, 6], strides=[1, 1]](%61, %conv6.weight, %conv6.bias) # /home/kmh/anaconda3/envs/fastml/lib/python3.8/site-packages/torch/nn/modules/conv.py:415:0\n",
      "  %63 : Float(8:369664, 1024:361, 19:19, 19:1) = onnx::Relu(%62) # /home/kmh/anaconda3/envs/fastml/lib/python3.8/site-packages/torch/nn/functional.py:1119:0\n",
      "  %64 : Float(8:369664, 1024:361, 19:19, 19:1) = onnx::Conv[dilations=[1, 1], group=1, kernel_shape=[1, 1], pads=[0, 0, 0, 0], strides=[1, 1]](%63, %conv7.weight, %conv7.bias) # /home/kmh/anaconda3/envs/fastml/lib/python3.8/site-packages/torch/nn/modules/conv.py:415:0\n",
      "  %conv7_feats : Float(8:369664, 1024:361, 19:19, 19:1) = onnx::Relu(%64) # /home/kmh/anaconda3/envs/fastml/lib/python3.8/site-packages/torch/nn/functional.py:1119:0\n",
      "  return (%conv4_feats, %conv7_feats)\n",
      "\n"
     ]
    }
   ],
   "source": [
    "torch.onnx.export(model, batch[0], './models/vgg_model.onnx', input_names=[\"input\"], output_names=[\"conv4_feats\", \"conv7_feats\"], do_constant_folding=False, verbose=True)"
   ]
  },
  {
   "cell_type": "code",
   "execution_count": null,
   "metadata": {},
   "outputs": [],
   "source": []
  }
 ],
 "metadata": {
  "kernelspec": {
   "display_name": "Python 3",
   "language": "python",
   "name": "python3"
  },
  "language_info": {
   "codemirror_mode": {
    "name": "ipython",
    "version": 3
   },
   "file_extension": ".py",
   "mimetype": "text/x-python",
   "name": "python",
   "nbconvert_exporter": "python",
   "pygments_lexer": "ipython3",
   "version": "3.8.6"
  }
 },
 "nbformat": 4,
 "nbformat_minor": 4
}
